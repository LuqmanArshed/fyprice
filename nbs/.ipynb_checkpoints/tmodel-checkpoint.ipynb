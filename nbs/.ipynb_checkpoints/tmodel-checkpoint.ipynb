{
 "cells": [
  {
   "cell_type": "code",
   "execution_count": 1,
   "id": "be38dd62",
   "metadata": {},
   "outputs": [],
   "source": [
    "import tensorflow as tf"
   ]
  },
  {
   "cell_type": "code",
   "execution_count": 2,
   "id": "294eeae7",
   "metadata": {},
   "outputs": [],
   "source": [
    "import matplotlib.pyplot as plt"
   ]
  },
  {
   "cell_type": "code",
   "execution_count": 3,
   "id": "bdb288a9",
   "metadata": {},
   "outputs": [
    {
     "name": "stdout",
     "output_type": "stream",
     "text": [
      "Requirement already satisfied: matplotlib in /home/luqman/projects/import/lib/python3.8/site-packages (3.4.2)\r\n",
      "Requirement already satisfied: cycler>=0.10 in /home/luqman/projects/import/lib/python3.8/site-packages (from matplotlib) (0.10.0)\r\n",
      "Requirement already satisfied: pyparsing>=2.2.1 in /home/luqman/projects/import/lib/python3.8/site-packages (from matplotlib) (2.4.7)\r\n",
      "Requirement already satisfied: python-dateutil>=2.7 in /home/luqman/projects/import/lib/python3.8/site-packages (from matplotlib) (2.8.1)\r\n",
      "Requirement already satisfied: kiwisolver>=1.0.1 in /home/luqman/projects/import/lib/python3.8/site-packages (from matplotlib) (1.3.1)\r\n",
      "Requirement already satisfied: pillow>=6.2.0 in /home/luqman/projects/import/lib/python3.8/site-packages (from matplotlib) (8.1.0)\r\n",
      "Requirement already satisfied: numpy>=1.16 in /home/luqman/projects/import/lib/python3.8/site-packages (from matplotlib) (1.19.5)\r\n",
      "Requirement already satisfied: six in /home/luqman/projects/import/lib/python3.8/site-packages (from cycler>=0.10->matplotlib) (1.15.0)\r\n"
     ]
    }
   ],
   "source": [
    "!pip3 install matplotlib"
   ]
  },
  {
   "cell_type": "code",
   "execution_count": 4,
   "id": "886c87e4",
   "metadata": {},
   "outputs": [],
   "source": [
    "import os"
   ]
  },
  {
   "cell_type": "code",
   "execution_count": 5,
   "id": "a9f6d4f0",
   "metadata": {},
   "outputs": [],
   "source": [
    "import numpy as np"
   ]
  },
  {
   "cell_type": "code",
   "execution_count": 6,
   "id": "9945d13c",
   "metadata": {},
   "outputs": [],
   "source": [
    "from tensorflow.keras.preprocessing.image import ImageDataGenerator"
   ]
  },
  {
   "cell_type": "code",
   "execution_count": 7,
   "id": "6ae54478",
   "metadata": {},
   "outputs": [],
   "source": [
    "import cv2"
   ]
  },
  {
   "cell_type": "code",
   "execution_count": 8,
   "id": "fc294fd0",
   "metadata": {},
   "outputs": [],
   "source": [
    "train = ImageDataGenerator(rescale = 1/255)\n",
    "validation = ImageDataGenerator(rescale = 1/255)"
   ]
  },
  {
   "cell_type": "code",
   "execution_count": 9,
   "id": "a8f290c7",
   "metadata": {},
   "outputs": [
    {
     "name": "stdout",
     "output_type": "stream",
     "text": [
      "Found 120 images belonging to 3 classes.\n"
     ]
    }
   ],
   "source": [
    "train_dataset = train.flow_from_directory('test/basedata/training',target_size =(200,200),batch_size =16,class_mode='categorical')"
   ]
  },
  {
   "cell_type": "code",
   "execution_count": 10,
   "id": "fd4aec28",
   "metadata": {},
   "outputs": [
    {
     "name": "stdout",
     "output_type": "stream",
     "text": [
      "Found 141 images belonging to 3 classes.\n"
     ]
    }
   ],
   "source": [
    "validation_dataset = validation.flow_from_directory('test/basedata/validation',target_size =(200,200),batch_size =16,class_mode='categorical')"
   ]
  },
  {
   "cell_type": "code",
   "execution_count": 11,
   "id": "6dc15122",
   "metadata": {},
   "outputs": [
    {
     "data": {
      "text/plain": [
       "{'Bacterialleafblight': 0, 'Brown spot': 1, 'Leaf smut': 2}"
      ]
     },
     "execution_count": 11,
     "metadata": {},
     "output_type": "execute_result"
    }
   ],
   "source": [
    "train_dataset.class_indices"
   ]
  },
  {
   "cell_type": "code",
   "execution_count": 12,
   "id": "a18e4a28",
   "metadata": {},
   "outputs": [],
   "source": [
    "model = tf.keras.models.Sequential([\n",
    "    tf.keras.layers.Conv2D(16,(3,3),activation ='relu',input_shape=(200,200,3)),\n",
    "    tf.keras.layers.MaxPool2D(2,2),\n",
    "    #\n",
    "    tf.keras.layers.Conv2D(32,(3,3),activation ='relu'),\n",
    "    tf.keras.layers.MaxPool2D(2,2),\n",
    "     #\n",
    "    tf.keras.layers.Conv2D(64,(3,3),activation ='relu'),\n",
    "    tf.keras.layers.MaxPool2D(2,2),\n",
    "    ##\n",
    "    tf.keras.layers.Flatten(),\n",
    "    ##\n",
    "    tf.keras.layers.Dense(512,activation='relu'),\n",
    "    ##\n",
    "    tf.keras.layers.Dense(3,activation='softmax'),\n",
    "    \n",
    "])"
   ]
  },
  {
   "cell_type": "code",
   "execution_count": 14,
   "id": "e2ef1089",
   "metadata": {},
   "outputs": [],
   "source": [
    "model.compile(loss='categorical_crossentropy',\n",
    "             optimizer= tf.keras.optimizers.RMSprop(lr=0.001),\n",
    "             metrics=['accuracy'])"
   ]
  },
  {
   "cell_type": "code",
   "execution_count": 15,
   "id": "ac67d436",
   "metadata": {},
   "outputs": [
    {
     "name": "stdout",
     "output_type": "stream",
     "text": [
      "Epoch 1/30\n",
      "3/3 [==============================] - 10s 4s/step - loss: 8.1579 - accuracy: 0.4375 - val_loss: 2.0585 - val_accuracy: 0.4326\n",
      "Epoch 2/30\n",
      "3/3 [==============================] - 9s 4s/step - loss: 1.6253 - accuracy: 0.2917 - val_loss: 1.0663 - val_accuracy: 0.2979\n",
      "Epoch 3/30\n",
      "3/3 [==============================] - 7s 3s/step - loss: 1.0784 - accuracy: 0.3000 - val_loss: 3.4235 - val_accuracy: 0.2837\n",
      "Epoch 4/30\n",
      "3/3 [==============================] - 8s 3s/step - loss: 2.0849 - accuracy: 0.4375 - val_loss: 0.9955 - val_accuracy: 0.5603\n",
      "Epoch 5/30\n",
      "3/3 [==============================] - 7s 3s/step - loss: 1.0537 - accuracy: 0.5250 - val_loss: 1.2196 - val_accuracy: 0.3050\n",
      "Epoch 6/30\n",
      "3/3 [==============================] - 8s 3s/step - loss: 0.9912 - accuracy: 0.5208 - val_loss: 1.0833 - val_accuracy: 0.3121\n",
      "Epoch 7/30\n",
      "3/3 [==============================] - 8s 3s/step - loss: 0.8590 - accuracy: 0.6042 - val_loss: 0.9707 - val_accuracy: 0.5390\n",
      "Epoch 8/30\n",
      "3/3 [==============================] - 8s 3s/step - loss: 1.0432 - accuracy: 0.6250 - val_loss: 0.8022 - val_accuracy: 0.6667\n",
      "Epoch 9/30\n",
      "3/3 [==============================] - 8s 3s/step - loss: 0.7245 - accuracy: 0.6875 - val_loss: 1.0951 - val_accuracy: 0.4539\n",
      "Epoch 10/30\n",
      "3/3 [==============================] - 7s 3s/step - loss: 1.1156 - accuracy: 0.4750 - val_loss: 0.8726 - val_accuracy: 0.6596\n",
      "Epoch 11/30\n",
      "3/3 [==============================] - 8s 3s/step - loss: 0.7813 - accuracy: 0.6667 - val_loss: 0.7807 - val_accuracy: 0.6950\n",
      "Epoch 12/30\n",
      "3/3 [==============================] - 8s 3s/step - loss: 0.6345 - accuracy: 0.6875 - val_loss: 0.8181 - val_accuracy: 0.6170\n",
      "Epoch 13/30\n",
      "3/3 [==============================] - 8s 3s/step - loss: 0.6543 - accuracy: 0.7292 - val_loss: 2.3648 - val_accuracy: 0.3617\n",
      "Epoch 14/30\n",
      "3/3 [==============================] - 8s 3s/step - loss: 0.7294 - accuracy: 0.7083 - val_loss: 0.6793 - val_accuracy: 0.7943\n",
      "Epoch 15/30\n",
      "3/3 [==============================] - 7s 3s/step - loss: 0.5278 - accuracy: 0.8250 - val_loss: 1.7083 - val_accuracy: 0.5319\n",
      "Epoch 16/30\n",
      "3/3 [==============================] - 8s 3s/step - loss: 1.0176 - accuracy: 0.6458 - val_loss: 0.7332 - val_accuracy: 0.7589\n",
      "Epoch 17/30\n",
      "3/3 [==============================] - 7s 3s/step - loss: 0.8826 - accuracy: 0.6042 - val_loss: 0.7374 - val_accuracy: 0.6950\n",
      "Epoch 18/30\n",
      "3/3 [==============================] - 7s 3s/step - loss: 0.4827 - accuracy: 0.8542 - val_loss: 0.6367 - val_accuracy: 0.8085\n",
      "Epoch 19/30\n",
      "3/3 [==============================] - 7s 3s/step - loss: 0.8645 - accuracy: 0.6250 - val_loss: 1.5096 - val_accuracy: 0.4326\n",
      "Epoch 20/30\n",
      "3/3 [==============================] - 8s 3s/step - loss: 0.5630 - accuracy: 0.7500 - val_loss: 0.7358 - val_accuracy: 0.7163\n",
      "Epoch 21/30\n",
      "3/3 [==============================] - 7s 3s/step - loss: 0.3807 - accuracy: 0.8500 - val_loss: 0.8871 - val_accuracy: 0.6667\n",
      "Epoch 22/30\n",
      "3/3 [==============================] - 8s 3s/step - loss: 0.4570 - accuracy: 0.7500 - val_loss: 0.9737 - val_accuracy: 0.6241\n",
      "Epoch 23/30\n",
      "3/3 [==============================] - 7s 3s/step - loss: 0.4441 - accuracy: 0.8250 - val_loss: 0.5669 - val_accuracy: 0.8582\n",
      "Epoch 24/30\n",
      "3/3 [==============================] - 7s 3s/step - loss: 0.3446 - accuracy: 0.9000 - val_loss: 1.6233 - val_accuracy: 0.5674\n",
      "Epoch 25/30\n",
      "3/3 [==============================] - 7s 3s/step - loss: 0.8235 - accuracy: 0.7000 - val_loss: 0.4256 - val_accuracy: 0.8440\n",
      "Epoch 26/30\n",
      "3/3 [==============================] - 7s 3s/step - loss: 0.2147 - accuracy: 0.9250 - val_loss: 0.5625 - val_accuracy: 0.8511\n",
      "Epoch 27/30\n",
      "3/3 [==============================] - 9s 4s/step - loss: 0.6363 - accuracy: 0.7750 - val_loss: 0.5795 - val_accuracy: 0.7305\n",
      "Epoch 28/30\n",
      "3/3 [==============================] - 8s 3s/step - loss: 0.6458 - accuracy: 0.7083 - val_loss: 0.5736 - val_accuracy: 0.8085\n",
      "Epoch 29/30\n",
      "3/3 [==============================] - 8s 3s/step - loss: 0.2536 - accuracy: 0.9583 - val_loss: 0.5221 - val_accuracy: 0.8582\n",
      "Epoch 30/30\n",
      "3/3 [==============================] - 8s 3s/step - loss: 0.0930 - accuracy: 0.9792 - val_loss: 0.4691 - val_accuracy: 0.8723\n"
     ]
    }
   ],
   "source": [
    "model_fit = model.fit(train_dataset,steps_per_epoch = 3,epochs=30,validation_data= validation_dataset)"
   ]
  },
  {
   "cell_type": "code",
   "execution_count": 20,
   "id": "d0b229b1",
   "metadata": {},
   "outputs": [
    {
     "name": "stdout",
     "output_type": "stream",
     "text": [
      "Collecting scipy\n",
      "  Downloading scipy-1.7.0-cp38-cp38-manylinux_2_5_x86_64.manylinux1_x86_64.whl (28.4 MB)\n",
      "\u001b[K     |████████████████████████████████| 28.4 MB 792 kB/s eta 0:00:01\n",
      "\u001b[?25hRequirement already satisfied: numpy<1.23.0,>=1.16.5 in /home/luqman/projects/import/lib/python3.8/site-packages (from scipy) (1.19.5)\n",
      "Installing collected packages: scipy\n",
      "Successfully installed scipy-1.7.0\n"
     ]
    }
   ],
   "source": [
    "!pip3 install scipy"
   ]
  },
  {
   "cell_type": "code",
   "execution_count": 16,
   "id": "32b9bf50",
   "metadata": {},
   "outputs": [],
   "source": [
    "from django_for_jupyter import init_django\n",
    "init_django(\"fyp1\")"
   ]
  },
  {
   "cell_type": "code",
   "execution_count": 17,
   "id": "078ad442",
   "metadata": {},
   "outputs": [],
   "source": [
    "from riceleafdisease.models import Training"
   ]
  },
  {
   "cell_type": "code",
   "execution_count": 27,
   "id": "9c0e9b13",
   "metadata": {},
   "outputs": [],
   "source": [
    "allobj = Training.objects.all()"
   ]
  },
  {
   "cell_type": "code",
   "execution_count": 34,
   "id": "d13729df",
   "metadata": {},
   "outputs": [],
   "source": [
    "first = allobj.last()"
   ]
  },
  {
   "cell_type": "code",
   "execution_count": 35,
   "id": "19d41bce",
   "metadata": {},
   "outputs": [],
   "source": [
    "file = first.image"
   ]
  },
  {
   "cell_type": "code",
   "execution_count": 44,
   "id": "e61d3055",
   "metadata": {},
   "outputs": [],
   "source": [
    "from IPython.display import Image"
   ]
  },
  {
   "cell_type": "code",
   "execution_count": 49,
   "id": "455b6d6a",
   "metadata": {},
   "outputs": [],
   "source": [
    "from PIL import *\n",
    "import PIL.Image"
   ]
  },
  {
   "cell_type": "code",
   "execution_count": 47,
   "id": "fd5156ae",
   "metadata": {},
   "outputs": [],
   "source": [
    "def classify_image(file):\n",
    "    img= file.resize((200, 200), resample=PIL.Image.BICUBIC)\n",
    "    X = tf.keras.preprocessing.image.img_to_array(img)\n",
    "    X = np.expand_dims(X,axis=0)\n",
    "    images = np.vstack([X])\n",
    "    val = model.predict(images)\n",
    "    print(val)\n",
    "    if val[0][0]==1:\n",
    "        print('bacterail blight')\n",
    "    elif val[0][1]==1:\n",
    "        print('brown spot')\n",
    "    else:\n",
    "        print('leaf smut')"
   ]
  },
  {
   "cell_type": "code",
   "execution_count": 48,
   "id": "81905b9c",
   "metadata": {},
   "outputs": [
    {
     "ename": "TypeError",
     "evalue": "expected str, bytes or os.PathLike object, not ImageFieldFile",
     "output_type": "error",
     "traceback": [
      "\u001b[0;31m---------------------------------------------------------------------------\u001b[0m",
      "\u001b[0;31mTypeError\u001b[0m                                 Traceback (most recent call last)",
      "\u001b[0;32m<ipython-input-48-b50a9cf96f8e>\u001b[0m in \u001b[0;36m<module>\u001b[0;34m\u001b[0m\n\u001b[0;32m----> 1\u001b[0;31m \u001b[0mclassify_image\u001b[0m\u001b[0;34m(\u001b[0m\u001b[0mfile\u001b[0m\u001b[0;34m)\u001b[0m\u001b[0;34m\u001b[0m\u001b[0;34m\u001b[0m\u001b[0m\n\u001b[0m",
      "\u001b[0;32m<ipython-input-47-bb48957afb26>\u001b[0m in \u001b[0;36mclassify_image\u001b[0;34m(file)\u001b[0m\n\u001b[1;32m      1\u001b[0m \u001b[0;32mdef\u001b[0m \u001b[0mclassify_image\u001b[0m\u001b[0;34m(\u001b[0m\u001b[0mfile\u001b[0m\u001b[0;34m)\u001b[0m\u001b[0;34m:\u001b[0m\u001b[0;34m\u001b[0m\u001b[0;34m\u001b[0m\u001b[0m\n\u001b[0;32m----> 2\u001b[0;31m     \u001b[0mimg\u001b[0m\u001b[0;34m=\u001b[0m\u001b[0mImage\u001b[0m\u001b[0;34m(\u001b[0m\u001b[0mfilename\u001b[0m \u001b[0;34m=\u001b[0m \u001b[0mfile\u001b[0m\u001b[0;34m,\u001b[0m \u001b[0mwidth\u001b[0m \u001b[0;34m=\u001b[0m \u001b[0;36m200\u001b[0m\u001b[0;34m,\u001b[0m \u001b[0mheight\u001b[0m \u001b[0;34m=\u001b[0m \u001b[0;36m200\u001b[0m\u001b[0;34m)\u001b[0m\u001b[0;34m\u001b[0m\u001b[0;34m\u001b[0m\u001b[0m\n\u001b[0m\u001b[1;32m      3\u001b[0m     \u001b[0mX\u001b[0m \u001b[0;34m=\u001b[0m \u001b[0mtf\u001b[0m\u001b[0;34m.\u001b[0m\u001b[0mkeras\u001b[0m\u001b[0;34m.\u001b[0m\u001b[0mpreprocessing\u001b[0m\u001b[0;34m.\u001b[0m\u001b[0mimage\u001b[0m\u001b[0;34m.\u001b[0m\u001b[0mimg_to_array\u001b[0m\u001b[0;34m(\u001b[0m\u001b[0mimg\u001b[0m\u001b[0;34m)\u001b[0m\u001b[0;34m\u001b[0m\u001b[0;34m\u001b[0m\u001b[0m\n\u001b[1;32m      4\u001b[0m     \u001b[0mX\u001b[0m \u001b[0;34m=\u001b[0m \u001b[0mnp\u001b[0m\u001b[0;34m.\u001b[0m\u001b[0mexpand_dims\u001b[0m\u001b[0;34m(\u001b[0m\u001b[0mX\u001b[0m\u001b[0;34m,\u001b[0m\u001b[0maxis\u001b[0m\u001b[0;34m=\u001b[0m\u001b[0;36m0\u001b[0m\u001b[0;34m)\u001b[0m\u001b[0;34m\u001b[0m\u001b[0;34m\u001b[0m\u001b[0m\n\u001b[1;32m      5\u001b[0m     \u001b[0mimages\u001b[0m \u001b[0;34m=\u001b[0m \u001b[0mnp\u001b[0m\u001b[0;34m.\u001b[0m\u001b[0mvstack\u001b[0m\u001b[0;34m(\u001b[0m\u001b[0;34m[\u001b[0m\u001b[0mX\u001b[0m\u001b[0;34m]\u001b[0m\u001b[0;34m)\u001b[0m\u001b[0;34m\u001b[0m\u001b[0;34m\u001b[0m\u001b[0m\n",
      "\u001b[0;32m~/projects/import/lib/python3.8/site-packages/IPython/core/display.py\u001b[0m in \u001b[0;36m__init__\u001b[0;34m(self, data, url, filename, format, embed, width, height, retina, unconfined, metadata)\u001b[0m\n\u001b[1;32m   1181\u001b[0m \u001b[0;34m\u001b[0m\u001b[0m\n\u001b[1;32m   1182\u001b[0m         \u001b[0;32mif\u001b[0m \u001b[0mfilename\u001b[0m \u001b[0;32mis\u001b[0m \u001b[0;32mnot\u001b[0m \u001b[0;32mNone\u001b[0m\u001b[0;34m:\u001b[0m\u001b[0;34m\u001b[0m\u001b[0;34m\u001b[0m\u001b[0m\n\u001b[0;32m-> 1183\u001b[0;31m             \u001b[0mext\u001b[0m \u001b[0;34m=\u001b[0m \u001b[0mself\u001b[0m\u001b[0;34m.\u001b[0m\u001b[0m_find_ext\u001b[0m\u001b[0;34m(\u001b[0m\u001b[0mfilename\u001b[0m\u001b[0;34m)\u001b[0m\u001b[0;34m\u001b[0m\u001b[0;34m\u001b[0m\u001b[0m\n\u001b[0m\u001b[1;32m   1184\u001b[0m         \u001b[0;32melif\u001b[0m \u001b[0murl\u001b[0m \u001b[0;32mis\u001b[0m \u001b[0;32mnot\u001b[0m \u001b[0;32mNone\u001b[0m\u001b[0;34m:\u001b[0m\u001b[0;34m\u001b[0m\u001b[0;34m\u001b[0m\u001b[0m\n\u001b[1;32m   1185\u001b[0m             \u001b[0mext\u001b[0m \u001b[0;34m=\u001b[0m \u001b[0mself\u001b[0m\u001b[0;34m.\u001b[0m\u001b[0m_find_ext\u001b[0m\u001b[0;34m(\u001b[0m\u001b[0murl\u001b[0m\u001b[0;34m)\u001b[0m\u001b[0;34m\u001b[0m\u001b[0;34m\u001b[0m\u001b[0m\n",
      "\u001b[0;32m~/projects/import/lib/python3.8/site-packages/IPython/core/display.py\u001b[0m in \u001b[0;36m_find_ext\u001b[0;34m(self, s)\u001b[0m\n\u001b[1;32m   1325\u001b[0m \u001b[0;34m\u001b[0m\u001b[0m\n\u001b[1;32m   1326\u001b[0m     \u001b[0;32mdef\u001b[0m \u001b[0m_find_ext\u001b[0m\u001b[0;34m(\u001b[0m\u001b[0mself\u001b[0m\u001b[0;34m,\u001b[0m \u001b[0ms\u001b[0m\u001b[0;34m)\u001b[0m\u001b[0;34m:\u001b[0m\u001b[0;34m\u001b[0m\u001b[0;34m\u001b[0m\u001b[0m\n\u001b[0;32m-> 1327\u001b[0;31m         \u001b[0mbase\u001b[0m\u001b[0;34m,\u001b[0m \u001b[0mext\u001b[0m \u001b[0;34m=\u001b[0m \u001b[0msplitext\u001b[0m\u001b[0;34m(\u001b[0m\u001b[0ms\u001b[0m\u001b[0;34m)\u001b[0m\u001b[0;34m\u001b[0m\u001b[0;34m\u001b[0m\u001b[0m\n\u001b[0m\u001b[1;32m   1328\u001b[0m \u001b[0;34m\u001b[0m\u001b[0m\n\u001b[1;32m   1329\u001b[0m         \u001b[0;32mif\u001b[0m \u001b[0;32mnot\u001b[0m \u001b[0mext\u001b[0m\u001b[0;34m:\u001b[0m\u001b[0;34m\u001b[0m\u001b[0;34m\u001b[0m\u001b[0m\n",
      "\u001b[0;32m/usr/lib/python3.8/posixpath.py\u001b[0m in \u001b[0;36msplitext\u001b[0;34m(p)\u001b[0m\n\u001b[1;32m    116\u001b[0m \u001b[0;34m\u001b[0m\u001b[0m\n\u001b[1;32m    117\u001b[0m \u001b[0;32mdef\u001b[0m \u001b[0msplitext\u001b[0m\u001b[0;34m(\u001b[0m\u001b[0mp\u001b[0m\u001b[0;34m)\u001b[0m\u001b[0;34m:\u001b[0m\u001b[0;34m\u001b[0m\u001b[0;34m\u001b[0m\u001b[0m\n\u001b[0;32m--> 118\u001b[0;31m     \u001b[0mp\u001b[0m \u001b[0;34m=\u001b[0m \u001b[0mos\u001b[0m\u001b[0;34m.\u001b[0m\u001b[0mfspath\u001b[0m\u001b[0;34m(\u001b[0m\u001b[0mp\u001b[0m\u001b[0;34m)\u001b[0m\u001b[0;34m\u001b[0m\u001b[0;34m\u001b[0m\u001b[0m\n\u001b[0m\u001b[1;32m    119\u001b[0m     \u001b[0;32mif\u001b[0m \u001b[0misinstance\u001b[0m\u001b[0;34m(\u001b[0m\u001b[0mp\u001b[0m\u001b[0;34m,\u001b[0m \u001b[0mbytes\u001b[0m\u001b[0;34m)\u001b[0m\u001b[0;34m:\u001b[0m\u001b[0;34m\u001b[0m\u001b[0;34m\u001b[0m\u001b[0m\n\u001b[1;32m    120\u001b[0m         \u001b[0msep\u001b[0m \u001b[0;34m=\u001b[0m \u001b[0;34mb'/'\u001b[0m\u001b[0;34m\u001b[0m\u001b[0;34m\u001b[0m\u001b[0m\n",
      "\u001b[0;31mTypeError\u001b[0m: expected str, bytes or os.PathLike object, not ImageFieldFile"
     ]
    }
   ],
   "source": [
    "classify_image(file)"
   ]
  },
  {
   "cell_type": "code",
   "execution_count": null,
   "id": "16e95b73",
   "metadata": {},
   "outputs": [],
   "source": []
  }
 ],
 "metadata": {
  "kernelspec": {
   "display_name": "Python 3",
   "language": "python",
   "name": "python3"
  },
  "language_info": {
   "codemirror_mode": {
    "name": "ipython",
    "version": 3
   },
   "file_extension": ".py",
   "mimetype": "text/x-python",
   "name": "python",
   "nbconvert_exporter": "python",
   "pygments_lexer": "ipython3",
   "version": "3.8.5"
  }
 },
 "nbformat": 4,
 "nbformat_minor": 5
}
