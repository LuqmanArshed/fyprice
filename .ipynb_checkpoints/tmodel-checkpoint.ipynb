{
 "cells": [
  {
   "cell_type": "code",
   "execution_count": 2,
   "id": "ed6c168c",
   "metadata": {},
   "outputs": [],
   "source": [
    "import tensorflow as tf"
   ]
  },
  {
   "cell_type": "code",
   "execution_count": 3,
   "id": "7110a844",
   "metadata": {},
   "outputs": [],
   "source": [
    "import matplotlib.pyplot as plt"
   ]
  },
  {
   "cell_type": "code",
   "execution_count": 3,
   "id": "c4c49152",
   "metadata": {},
   "outputs": [
    {
     "name": "stdout",
     "output_type": "stream",
     "text": [
      "Requirement already satisfied: matplotlib in /home/luqman/projects/import/lib/python3.8/site-packages (3.4.2)\r\n",
      "Requirement already satisfied: cycler>=0.10 in /home/luqman/projects/import/lib/python3.8/site-packages (from matplotlib) (0.10.0)\r\n",
      "Requirement already satisfied: pyparsing>=2.2.1 in /home/luqman/projects/import/lib/python3.8/site-packages (from matplotlib) (2.4.7)\r\n",
      "Requirement already satisfied: python-dateutil>=2.7 in /home/luqman/projects/import/lib/python3.8/site-packages (from matplotlib) (2.8.1)\r\n",
      "Requirement already satisfied: kiwisolver>=1.0.1 in /home/luqman/projects/import/lib/python3.8/site-packages (from matplotlib) (1.3.1)\r\n",
      "Requirement already satisfied: pillow>=6.2.0 in /home/luqman/projects/import/lib/python3.8/site-packages (from matplotlib) (8.1.0)\r\n",
      "Requirement already satisfied: numpy>=1.16 in /home/luqman/projects/import/lib/python3.8/site-packages (from matplotlib) (1.19.5)\r\n",
      "Requirement already satisfied: six in /home/luqman/projects/import/lib/python3.8/site-packages (from cycler>=0.10->matplotlib) (1.15.0)\r\n"
     ]
    }
   ],
   "source": [
    "!pip3 install matplotlib"
   ]
  },
  {
   "cell_type": "code",
   "execution_count": 4,
   "id": "e331ce88",
   "metadata": {},
   "outputs": [],
   "source": [
    "import os"
   ]
  },
  {
   "cell_type": "code",
   "execution_count": 5,
   "id": "aa51f892",
   "metadata": {},
   "outputs": [],
   "source": [
    "import numpy as np"
   ]
  },
  {
   "cell_type": "code",
   "execution_count": 6,
   "id": "38566e71",
   "metadata": {},
   "outputs": [],
   "source": [
    "from tensorflow.keras.preprocessing.image import ImageDataGenerator"
   ]
  },
  {
   "cell_type": "code",
   "execution_count": 7,
   "id": "09e99b5d",
   "metadata": {},
   "outputs": [],
   "source": [
    "import cv2"
   ]
  },
  {
   "cell_type": "code",
   "execution_count": 8,
   "id": "d78cb6b5",
   "metadata": {},
   "outputs": [],
   "source": [
    "train = ImageDataGenerator(rescale = 1/255)\n",
    "validation = ImageDataGenerator(rescale = 1/255)"
   ]
  },
  {
   "cell_type": "code",
   "execution_count": 9,
   "id": "8158a340",
   "metadata": {},
   "outputs": [
    {
     "name": "stdout",
     "output_type": "stream",
     "text": [
      "Found 120 images belonging to 3 classes.\n"
     ]
    }
   ],
   "source": [
    "train_dataset = train.flow_from_directory('test/basedata/training',target_size =(200,200),batch_size =16,class_mode='categorical')"
   ]
  },
  {
   "cell_type": "code",
   "execution_count": 10,
   "id": "815db5f8",
   "metadata": {},
   "outputs": [
    {
     "name": "stdout",
     "output_type": "stream",
     "text": [
      "Found 141 images belonging to 3 classes.\n"
     ]
    }
   ],
   "source": [
    "validation_dataset = validation.flow_from_directory('test/basedata/validation',target_size =(200,200),batch_size =16,class_mode='categorical')"
   ]
  },
  {
   "cell_type": "code",
   "execution_count": 11,
   "id": "d75bbf09",
   "metadata": {},
   "outputs": [
    {
     "data": {
      "text/plain": [
       "{'Bacterialleafblight': 0, 'Brown spot': 1, 'Leaf smut': 2}"
      ]
     },
     "execution_count": 11,
     "metadata": {},
     "output_type": "execute_result"
    }
   ],
   "source": [
    "train_dataset.class_indices"
   ]
  },
  {
   "cell_type": "code",
   "execution_count": 12,
   "id": "8f62d786",
   "metadata": {},
   "outputs": [],
   "source": [
    "model = tf.keras.models.Sequential([\n",
    "    tf.keras.layers.Conv2D(16,(3,3),activation ='relu',input_shape=(200,200,3)),\n",
    "    tf.keras.layers.MaxPool2D(2,2),\n",
    "    #\n",
    "    tf.keras.layers.Conv2D(32,(3,3),activation ='relu'),\n",
    "    tf.keras.layers.MaxPool2D(2,2),\n",
    "     #\n",
    "    tf.keras.layers.Conv2D(64,(3,3),activation ='relu'),\n",
    "    tf.keras.layers.MaxPool2D(2,2),\n",
    "    ##\n",
    "    tf.keras.layers.Flatten(),\n",
    "    ##\n",
    "    tf.keras.layers.Dense(512,activation='relu'),\n",
    "    ##\n",
    "    tf.keras.layers.Dense(3,activation='softmax'),\n",
    "    \n",
    "])"
   ]
  },
  {
   "cell_type": "code",
   "execution_count": 14,
   "id": "e1baea8b",
   "metadata": {},
   "outputs": [],
   "source": [
    "model.compile(loss='categorical_crossentropy',\n",
    "             optimizer= tf.keras.optimizers.RMSprop(learning_rate=0.001),\n",
    "             metrics=['accuracy'])"
   ]
  },
  {
   "cell_type": "code",
   "execution_count": 15,
   "id": "83d3690d",
   "metadata": {},
   "outputs": [
    {
     "name": "stdout",
     "output_type": "stream",
     "text": [
      "Epoch 1/30\n",
      "3/3 [==============================] - 10s 4s/step - loss: 16.5500 - accuracy: 0.2917 - val_loss: 1.0138 - val_accuracy: 0.4894\n",
      "Epoch 2/30\n",
      "3/3 [==============================] - 8s 3s/step - loss: 1.1053 - accuracy: 0.5000 - val_loss: 1.0941 - val_accuracy: 0.4965\n",
      "Epoch 3/30\n",
      "3/3 [==============================] - 8s 3s/step - loss: 1.0035 - accuracy: 0.5833 - val_loss: 0.9360 - val_accuracy: 0.5603\n",
      "Epoch 4/30\n",
      "3/3 [==============================] - 7s 3s/step - loss: 1.1011 - accuracy: 0.4750 - val_loss: 1.0055 - val_accuracy: 0.5461\n",
      "Epoch 5/30\n",
      "3/3 [==============================] - 8s 3s/step - loss: 0.9020 - accuracy: 0.6250 - val_loss: 0.8547 - val_accuracy: 0.5957\n",
      "Epoch 6/30\n",
      "3/3 [==============================] - 7s 3s/step - loss: 1.0803 - accuracy: 0.5000 - val_loss: 0.8273 - val_accuracy: 0.6454\n",
      "Epoch 7/30\n",
      "3/3 [==============================] - 8s 3s/step - loss: 0.9326 - accuracy: 0.4583 - val_loss: 0.7885 - val_accuracy: 0.6525\n",
      "Epoch 8/30\n",
      "3/3 [==============================] - 8s 3s/step - loss: 0.8217 - accuracy: 0.5833 - val_loss: 1.3023 - val_accuracy: 0.3262\n",
      "Epoch 9/30\n",
      "3/3 [==============================] - 7s 3s/step - loss: 1.1921 - accuracy: 0.5000 - val_loss: 0.7989 - val_accuracy: 0.6170\n",
      "Epoch 10/30\n",
      "3/3 [==============================] - 8s 3s/step - loss: 0.7725 - accuracy: 0.6250 - val_loss: 0.9256 - val_accuracy: 0.5248\n",
      "Epoch 11/30\n",
      "3/3 [==============================] - 9s 4s/step - loss: 0.7498 - accuracy: 0.6875 - val_loss: 0.7028 - val_accuracy: 0.6738\n",
      "Epoch 12/30\n",
      "3/3 [==============================] - 7s 3s/step - loss: 0.8694 - accuracy: 0.6500 - val_loss: 0.7253 - val_accuracy: 0.6170\n",
      "Epoch 13/30\n",
      "3/3 [==============================] - 7s 3s/step - loss: 0.4752 - accuracy: 0.7750 - val_loss: 0.8711 - val_accuracy: 0.6383\n",
      "Epoch 14/30\n",
      "3/3 [==============================] - 7s 3s/step - loss: 0.5836 - accuracy: 0.7750 - val_loss: 2.8448 - val_accuracy: 0.3191\n",
      "Epoch 15/30\n",
      "3/3 [==============================] - 7s 3s/step - loss: 1.3525 - accuracy: 0.5750 - val_loss: 0.8328 - val_accuracy: 0.6596\n",
      "Epoch 16/30\n",
      "3/3 [==============================] - 7s 3s/step - loss: 0.5078 - accuracy: 0.8750 - val_loss: 1.0392 - val_accuracy: 0.5461\n",
      "Epoch 17/30\n",
      "3/3 [==============================] - 8s 3s/step - loss: 0.6287 - accuracy: 0.7500 - val_loss: 0.6892 - val_accuracy: 0.7376\n",
      "Epoch 18/30\n",
      "3/3 [==============================] - 8s 3s/step - loss: 0.7359 - accuracy: 0.7292 - val_loss: 1.6580 - val_accuracy: 0.4752\n",
      "Epoch 19/30\n",
      "3/3 [==============================] - 8s 3s/step - loss: 0.7228 - accuracy: 0.7708 - val_loss: 0.6209 - val_accuracy: 0.7305\n",
      "Epoch 20/30\n",
      "3/3 [==============================] - 7s 3s/step - loss: 0.4954 - accuracy: 0.8250 - val_loss: 0.5237 - val_accuracy: 0.7234\n",
      "Epoch 21/30\n",
      "3/3 [==============================] - 8s 3s/step - loss: 0.4832 - accuracy: 0.8250 - val_loss: 0.4385 - val_accuracy: 0.7872\n",
      "Epoch 22/30\n",
      "3/3 [==============================] - 8s 3s/step - loss: 0.3732 - accuracy: 0.8125 - val_loss: 0.7048 - val_accuracy: 0.7305\n",
      "Epoch 23/30\n",
      "3/3 [==============================] - 8s 4s/step - loss: 0.6590 - accuracy: 0.6875 - val_loss: 0.6200 - val_accuracy: 0.7447\n",
      "Epoch 24/30\n",
      "3/3 [==============================] - 8s 3s/step - loss: 0.3039 - accuracy: 0.8958 - val_loss: 0.4442 - val_accuracy: 0.8227\n",
      "Epoch 25/30\n",
      "3/3 [==============================] - 7s 3s/step - loss: 0.1974 - accuracy: 0.9250 - val_loss: 0.5828 - val_accuracy: 0.7589\n",
      "Epoch 26/30\n",
      "3/3 [==============================] - 8s 3s/step - loss: 0.5510 - accuracy: 0.7917 - val_loss: 0.4869 - val_accuracy: 0.7801\n",
      "Epoch 27/30\n",
      "3/3 [==============================] - 8s 3s/step - loss: 0.2403 - accuracy: 0.8958 - val_loss: 0.3573 - val_accuracy: 0.8369\n",
      "Epoch 28/30\n",
      "3/3 [==============================] - 7s 3s/step - loss: 0.2584 - accuracy: 0.9000 - val_loss: 0.4565 - val_accuracy: 0.8582\n",
      "Epoch 29/30\n",
      "3/3 [==============================] - 7s 3s/step - loss: 0.1171 - accuracy: 0.9750 - val_loss: 0.3779 - val_accuracy: 0.8582\n",
      "Epoch 30/30\n",
      "3/3 [==============================] - 7s 3s/step - loss: 0.0812 - accuracy: 0.9750 - val_loss: 2.1541 - val_accuracy: 0.4681\n"
     ]
    }
   ],
   "source": [
    "model_fit = model.fit(train_dataset,steps_per_epoch = 3,epochs=30,validation_data= validation_dataset)"
   ]
  },
  {
   "cell_type": "code",
   "execution_count": 20,
   "id": "29e985e5",
   "metadata": {},
   "outputs": [
    {
     "name": "stdout",
     "output_type": "stream",
     "text": [
      "Collecting scipy\n",
      "  Downloading scipy-1.7.0-cp38-cp38-manylinux_2_5_x86_64.manylinux1_x86_64.whl (28.4 MB)\n",
      "\u001b[K     |████████████████████████████████| 28.4 MB 792 kB/s eta 0:00:01\n",
      "\u001b[?25hRequirement already satisfied: numpy<1.23.0,>=1.16.5 in /home/luqman/projects/import/lib/python3.8/site-packages (from scipy) (1.19.5)\n",
      "Installing collected packages: scipy\n",
      "Successfully installed scipy-1.7.0\n"
     ]
    }
   ],
   "source": [
    "!pip3 install scipy"
   ]
  },
  {
   "cell_type": "code",
   "execution_count": 18,
   "id": "8d636f83",
   "metadata": {},
   "outputs": [],
   "source": [
    "from nbs.django_for_jupyter import init_django\n",
    "init_django(\"fyp1\")"
   ]
  },
  {
   "cell_type": "code",
   "execution_count": 19,
   "id": "0d8866bb",
   "metadata": {},
   "outputs": [],
   "source": [
    "from riceleafdisease.models import Training"
   ]
  },
  {
   "cell_type": "code",
   "execution_count": 20,
   "id": "fd462ccd",
   "metadata": {},
   "outputs": [],
   "source": [
    "allobj = Training.objects.all()"
   ]
  },
  {
   "cell_type": "code",
   "execution_count": 21,
   "id": "26c3a317",
   "metadata": {},
   "outputs": [],
   "source": [
    "first = allobj.first()"
   ]
  },
  {
   "cell_type": "code",
   "execution_count": 22,
   "id": "6acf16e8",
   "metadata": {},
   "outputs": [],
   "source": [
    "file = first.image"
   ]
  },
  {
   "cell_type": "code",
   "execution_count": 44,
   "id": "5ee6c612",
   "metadata": {},
   "outputs": [],
   "source": [
    "from IPython.display import Image"
   ]
  },
  {
   "cell_type": "code",
   "execution_count": 23,
   "id": "372222d7",
   "metadata": {},
   "outputs": [],
   "source": [
    "from PIL import *\n",
    "import PIL.Image"
   ]
  },
  {
   "cell_type": "code",
   "execution_count": 38,
   "id": "d55c43c2",
   "metadata": {},
   "outputs": [],
   "source": [
    "def classify_image(file):\n",
    "    dir_path = 'media/input'\n",
    "    for i in os.listdir(dir_path):\n",
    "        if file.url == '/' + dir_path + '/' + i:\n",
    "            print(\" i ran \")\n",
    "            img= tf.keras.preprocessing.image.load_img(dir_path+'//'+i,target_size=(200,200))\n",
    "            X = tf.keras.preprocessing.image.img_to_array(img)\n",
    "            X = np.expand_dims(X,axis=0)\n",
    "            images = np.vstack([X])\n",
    "            val = model.predict(images)\n",
    "            print(val)\n",
    "            if val[0][0]==1:\n",
    "                print('bacterail blight')\n",
    "            elif val[0][1]==1:\n",
    "                print('brown spot')\n",
    "            else:\n",
    "                print('leaf smut')"
   ]
  },
  {
   "cell_type": "code",
   "execution_count": 39,
   "id": "ec40a1e8",
   "metadata": {},
   "outputs": [],
   "source": [
    "classify_image(file)"
   ]
  },
  {
   "cell_type": "code",
   "execution_count": 27,
   "id": "a4ae3e32",
   "metadata": {},
   "outputs": [
    {
     "name": "stdout",
     "output_type": "stream",
     "text": [
      "/media/input/DSC_0329.jpg\n"
     ]
    }
   ],
   "source": [
    "print(file.url)"
   ]
  },
  {
   "cell_type": "code",
   "execution_count": null,
   "id": "f853ea70",
   "metadata": {},
   "outputs": [],
   "source": []
  }
 ],
 "metadata": {
  "kernelspec": {
   "display_name": "Python 3",
   "language": "python",
   "name": "python3"
  },
  "language_info": {
   "codemirror_mode": {
    "name": "ipython",
    "version": 3
   },
   "file_extension": ".py",
   "mimetype": "text/x-python",
   "name": "python",
   "nbconvert_exporter": "python",
   "pygments_lexer": "ipython3",
   "version": "3.8.5"
  }
 },
 "nbformat": 4,
 "nbformat_minor": 5
}
